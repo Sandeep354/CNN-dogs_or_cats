{
  "nbformat": 4,
  "nbformat_minor": 0,
  "metadata": {
    "colab": {
      "name": "cnn-dogsvscat.ipynb",
      "provenance": [],
      "collapsed_sections": [],
      "toc_visible": true
    },
    "kernelspec": {
      "name": "python3",
      "display_name": "Python 3"
    }
  },
  "cells": [
    {
      "cell_type": "markdown",
      "metadata": {
        "id": "3DR-eO17geWu"
      },
      "source": [
        "# Convolutional Neural Network"
      ]
    },
    {
      "cell_type": "markdown",
      "metadata": {
        "id": "EMefrVPCg-60"
      },
      "source": [
        "### Importing the libraries"
      ]
    },
    {
      "cell_type": "code",
      "metadata": {
        "id": "nT7BBwpp72bT"
      },
      "source": [
        "import tensorflow as tf\n",
        "from keras.preprocessing.image import ImageDataGenerator #Generate batches of tensor image data with real-time data augmentation."
      ],
      "execution_count": 3,
      "outputs": []
    },
    {
      "cell_type": "code",
      "metadata": {
        "id": "o0QyFQ7u8ERt",
        "outputId": "c310e57e-b3ae-4dab-c157-bc00a9ca5a42",
        "colab": {
          "base_uri": "https://localhost:8080/",
          "height": 35
        }
      },
      "source": [
        "print (tf.__version__)"
      ],
      "execution_count": 4,
      "outputs": [
        {
          "output_type": "stream",
          "text": [
            "2.3.0\n"
          ],
          "name": "stdout"
        }
      ]
    },
    {
      "cell_type": "markdown",
      "metadata": {
        "id": "oxQxCBWyoGPE"
      },
      "source": [
        "## Part 1 - Data Preprocessing"
      ]
    },
    {
      "cell_type": "markdown",
      "metadata": {
        "id": "MvE-heJNo3GG"
      },
      "source": [
        "### Preprocessing the Training set"
      ]
    },
    {
      "cell_type": "code",
      "metadata": {
        "id": "JcvUQQt88USE"
      },
      "source": [
        "# IMAGE AUGMENTATION\n",
        "# That is, we will apply some simple geometric transformations (to avoid overfitting)\n",
        "\n",
        "# rescale - feature scaling (COMPULSORY), others are for augmentation\n",
        "train_datagen = ImageDataGenerator(\n",
        "        rescale=1./255,\n",
        "        shear_range=0.2,\n",
        "        zoom_range=0.2,\n",
        "        horizontal_flip=True)\n",
        "\n",
        "# Connect this to the training set (class_mode = binary or categorical)\n",
        "training_set = train_datagen.flow_from_directory(\n",
        "        'C:\\Users\\LENOVO\\Desktop\\Section+40+-+Convolutional+Neural+Networks+(CNN)\\Section 40 - Convolutional Neural Networks (CNN)\\dataset\\training_set',\n",
        "        target_size=(64, 64),\n",
        "        batch_size=32,\n",
        "        class_mode='binary')"
      ],
      "execution_count": null,
      "outputs": []
    },
    {
      "cell_type": "markdown",
      "metadata": {
        "id": "mrCMmGw9pHys"
      },
      "source": [
        "### Preprocessing the Test set"
      ]
    },
    {
      "cell_type": "code",
      "metadata": {
        "id": "PJniv5kyEGqa"
      },
      "source": [
        "# We dont want to augment the test set\n",
        "test_datagen = ImageDataGenerator(rescale=1./255)\n",
        "\n",
        "test_set = test_datagen.flow_from_directory(\n",
        "        'C:\\Users\\LENOVO\\Desktop\\Section+40+-+Convolutional+Neural+Networks+(CNN)\\Section 40 - Convolutional Neural Networks (CNN)\\dataset\\test_set',\n",
        "        target_size=(64, 64),\n",
        "        batch_size=32,\n",
        "        class_mode='binary')"
      ],
      "execution_count": null,
      "outputs": []
    },
    {
      "cell_type": "markdown",
      "metadata": {
        "id": "af8O4l90gk7B"
      },
      "source": [
        "## Part 2 - Building the CNN"
      ]
    },
    {
      "cell_type": "markdown",
      "metadata": {
        "id": "ces1gXY2lmoX"
      },
      "source": [
        "### Initialising the CNN"
      ]
    },
    {
      "cell_type": "code",
      "metadata": {
        "id": "xtZSHKAGHbyE"
      },
      "source": [
        "cnn = tf.keras.models.Sequential()"
      ],
      "execution_count": null,
      "outputs": []
    },
    {
      "cell_type": "markdown",
      "metadata": {
        "id": "u5YJj_XMl5LF"
      },
      "source": [
        "### Step 1 - Convolution"
      ]
    },
    {
      "cell_type": "code",
      "metadata": {
        "id": "KUtu_hIIHy_0"
      },
      "source": [
        "# filters - number of filters/kernels\n",
        "# kernel_size - x (the shape/size of matrix xbyx)\n",
        "# input_shape - [64,64,3-rgb/1-greyscale]\n",
        "cnn.add(tf.keras.layers.Conv2D(filters=32, kernel_size=3, activation='relu', input_shape=[64, 64, 3]))"
      ],
      "execution_count": null,
      "outputs": []
    },
    {
      "cell_type": "markdown",
      "metadata": {
        "id": "tf87FpvxmNOJ"
      },
      "source": [
        "### Step 2 - Pooling"
      ]
    },
    {
      "cell_type": "code",
      "metadata": {
        "id": "dPhTKdLfJLIl"
      },
      "source": [
        "# pool_size - x (xbyx) (size of frame/matrix of feature map from which pooling will be done)\n",
        "cnn.add(tf.keras.layers.MaxPool2D(pool_size=2, strides=2))"
      ],
      "execution_count": null,
      "outputs": []
    },
    {
      "cell_type": "markdown",
      "metadata": {
        "id": "xaTOgD8rm4mU"
      },
      "source": [
        "### Adding a second convolutional layer"
      ]
    },
    {
      "cell_type": "code",
      "metadata": {
        "id": "XNuXGdhxKUZj"
      },
      "source": [
        "# input_layer is not required for further layers. it will take it on its own\n",
        "cnn.add(tf.keras.layers.Conv2D(filters=32, kernel_size=3, activation='relu'))\n",
        "cnn.add(tf.keras.layers.MaxPool2D(pool_size=2, strides=2))"
      ],
      "execution_count": null,
      "outputs": []
    },
    {
      "cell_type": "markdown",
      "metadata": {
        "id": "tmiEuvTunKfk"
      },
      "source": [
        "### Step 3 - Flattening"
      ]
    },
    {
      "cell_type": "code",
      "metadata": {
        "id": "nv0uEDC3KtCq"
      },
      "source": [
        "cnn.add(tf.keras.layers.Flatten())"
      ],
      "execution_count": null,
      "outputs": []
    },
    {
      "cell_type": "markdown",
      "metadata": {
        "id": "dAoSECOm203v"
      },
      "source": [
        "### Step 4 - Full Connection"
      ]
    },
    {
      "cell_type": "code",
      "metadata": {
        "id": "a8KN8wcGK7La"
      },
      "source": [
        "# Now, this is the normal ANN layer\n",
        "cnn.add(tf.keras.layers.Dense(units=128, activation='relu'))"
      ],
      "execution_count": null,
      "outputs": []
    },
    {
      "cell_type": "markdown",
      "metadata": {
        "id": "yTldFvbX28Na"
      },
      "source": [
        "### Step 5 - Output Layer"
      ]
    },
    {
      "cell_type": "code",
      "metadata": {
        "id": "XKfqKSUpLbaS"
      },
      "source": [
        "# units = 1 (binary classification)\n",
        "cnn.add(tf.keras.layers.Dense(units=1, activation='sigmoid'))"
      ],
      "execution_count": null,
      "outputs": []
    },
    {
      "cell_type": "markdown",
      "metadata": {
        "id": "D6XkI90snSDl"
      },
      "source": [
        "## Part 3 - Training the CNN"
      ]
    },
    {
      "cell_type": "markdown",
      "metadata": {
        "id": "vfrFQACEnc6i"
      },
      "source": [
        "### Compiling the CNN"
      ]
    },
    {
      "cell_type": "code",
      "metadata": {
        "id": "s1hMYByaMQyj"
      },
      "source": [
        "# Connect CNN to optimizer and loss function\n",
        "cnn.compile(optimizer='adam', loss='binary_crossentropy', metrics=['accuracy'])"
      ],
      "execution_count": null,
      "outputs": []
    },
    {
      "cell_type": "markdown",
      "metadata": {
        "id": "ehS-v3MIpX2h"
      },
      "source": [
        "### Training the CNN on the Training set and evaluating it on the Test set"
      ]
    },
    {
      "cell_type": "code",
      "metadata": {
        "id": "BMAckgC-MvHp"
      },
      "source": [
        "cnn.fit(x = training_set, validation_data = test_set, epochs = 25)"
      ],
      "execution_count": null,
      "outputs": []
    },
    {
      "cell_type": "markdown",
      "metadata": {
        "id": "U3PZasO0006Z"
      },
      "source": [
        "## Part 4 - Making a single prediction"
      ]
    },
    {
      "cell_type": "code",
      "metadata": {
        "id": "zIVC8nb0N6nE"
      },
      "source": [
        "import numpy as np\n",
        "from keras .preprocessing import image\n",
        "\n",
        "# Load our single image (for prediction) and make sure the size is correct (as we changed it earlier)\n",
        "test_image_pil = image.load_img('C:\\Users\\LENOVO\\Desktop\\Section+40+-+Convolutional+Neural+Networks+(CNN)\\Section 40 - Convolutional Neural Networks (CNN)\\dataset\\single_prediction\\cat_or_dog_1.jpg',\n",
        "                            target_size = (64, 64))\n",
        "\n",
        "# This above code will load in PIL format. So we need to change that (convert to array)\n",
        "test_image_array = image.img_to_array(test_image_pil)\n",
        "\n",
        "# We have to add an extra dimension for batch, since we created batch_size for training/test set\n",
        "# Even though we are predicting on 1 image, we have to add that dimension for predict method to work\n",
        "test_image = np.expand_dims(test_image_array, axis=0)\n",
        "\n",
        "result = cnn.predict(test_image)\n",
        "\n",
        "# To check what index corresponds to cat, and what corresponds to dog\n",
        "training_set.class_indices # we find that dog is 1 and cat is 0\n",
        "# result[0 -> first batch][0 -> first image]\n",
        "if result[0][0] == 1:\n",
        "  prediction = 'DOG'\n",
        "else:\n",
        "  prediction = 'CAT'"
      ],
      "execution_count": null,
      "outputs": []
    },
    {
      "cell_type": "code",
      "metadata": {
        "id": "vZAuvmmnSUfq"
      },
      "source": [
        "print (prediction)"
      ],
      "execution_count": null,
      "outputs": []
    }
  ]
}